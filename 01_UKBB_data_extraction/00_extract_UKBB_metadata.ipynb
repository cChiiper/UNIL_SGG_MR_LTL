{
 "cells": [
  {
   "cell_type": "markdown",
   "metadata": {},
   "source": [
    "### Packages"
   ]
  },
  {
   "cell_type": "code",
   "execution_count": null,
   "metadata": {},
   "outputs": [],
   "source": [
    "# pip install webdriver-manager"
   ]
  },
  {
   "cell_type": "code",
   "execution_count": 5,
   "metadata": {},
   "outputs": [],
   "source": [
    "# pip install selenium\n",
    "# pip install webdriver-manager\n",
    "\n",
    "# Packages for webscraping\n",
    "from selenium import webdriver\n",
    "from selenium.webdriver.chrome.service import Service\n",
    "from webdriver_manager.chrome import ChromeDriverManager\n",
    "from selenium.common.exceptions import NoSuchElementException\n",
    "from selenium.webdriver.common.by import By\n",
    "\n",
    "#Package to handle dataframes\n",
    "import pandas as pd\n",
    "\n",
    "#Package for progress bar\n",
    "from tqdm import tqdm"
   ]
  },
  {
   "cell_type": "markdown",
   "metadata": {},
   "source": [
    "#### Configure webdriver to use Chrome browser"
   ]
  },
  {
   "cell_type": "code",
   "execution_count": 6,
   "metadata": {},
   "outputs": [
    {
     "name": "stderr",
     "output_type": "stream",
     "text": [
      "[WDM] - Downloading: 100%|██████████| 6.68M/6.68M [00:02<00:00, 2.57MB/s]\n"
     ]
    }
   ],
   "source": [
    "s=Service(ChromeDriverManager().install())\n",
    "driver = webdriver.Chrome(service=s)"
   ]
  },
  {
   "cell_type": "markdown",
   "metadata": {},
   "source": [
    "### Webscraping function"
   ]
  },
  {
   "cell_type": "code",
   "execution_count": 7,
   "metadata": {},
   "outputs": [],
   "source": [
    "def UKBB_to_DF(ukbbidlist):\n",
    "    # Initiate empty lists to store data of interest\n",
    "    Description=[]\n",
    "    Category = []\n",
    "    ValueType=[]\n",
    "    Nbpart = []\n",
    "    Sex=[] \n",
    "    Mean=[]\n",
    "    Median=[]\n",
    "    Stdv=[]\n",
    "\n",
    "    # \n",
    "    for ukbbid in tqdm(ukbbidlist):\n",
    "        driver = webdriver.Chrome(service=s)\n",
    "        driver.get(\"https://biobank.ndph.ox.ac.uk/ukb/field.cgi?id=\" + str(ukbbid))\n",
    "    # Search by XPATH (put XPATH between \"\"\"___\"\"\")\n",
    "        Description.append(driver.find_element(by=By.XPATH, value=\"\"\"//*[@id=\"main\"]/table[1]/tbody/tr[1]/td[2]\"\"\").text)\n",
    "        Category.append(driver.find_element(by=By.XPATH, value=\"\"\"//*[@id=\"main\"]/table[1]/tbody/tr[2]/td[2]/a[1]\"\"\").text)\n",
    "        ValueType.append(driver.find_element(by=By.XPATH, value=\"\"\"//*[@id=\"main\"]/table[2]/tbody/tr[1]/td[5]\"\"\").text)\n",
    "        Nbpart.append(int(driver.find_element(by=By.XPATH, value=\"\"\"//*[@id=\"main\"]/table[2]/tbody/tr[1]/td[2]\"\"\").text.replace(\",\", \"\")))\n",
    "        Sex.append(driver.find_element(by=By.XPATH, value=\"\"\"//*[@id=\"main\"]/table[2]/tbody/tr[1]/td[8]\"\"\").text)\n",
    "    # Search by text element (write search query e.g. \"Mean = \" and remove by replacing string)\n",
    "        try:\n",
    "            Mean.append(driver.find_element(By.XPATH, value = (\"//*[contains(text(),'Mean = ')]\")).text.replace(\"Mean = \", \"\"))\n",
    "        except NoSuchElementException:\n",
    "            Mean.append(\"NA\")\n",
    "    \n",
    "        try:    \n",
    "            Median.append(driver.find_element(By.XPATH, value = (\"//*[contains(text(),'Median')]/following::td\")).text)\n",
    "        except NoSuchElementException:\n",
    "            Median.append(\"NA\")\n",
    "\n",
    "        try:\n",
    "            Stdv.append(driver.find_element(By.XPATH, value = (\"//*[contains(text(),'Std.dev = ')]\")).text.replace(\"Std.dev = \", \"\"))\n",
    "        except NoSuchElementException:\n",
    "            Stdv.append(\"NA\")\n",
    "\n",
    "        driver.close()\n",
    "    # Write dataframe\n",
    "    df = pd.DataFrame({'FieldID':ukbbidlist,'Description':Description, \"Category\":Category,\n",
    "                       \"Value_Type\":ValueType, \"Nb_Participants\": Nbpart,\n",
    "                       'Sex':Sex,\"Mean\":Mean, \"Median\": Median, \"SD\":Stdv}) \n",
    "    \n",
    "    return(df)"
   ]
  },
  {
   "cell_type": "markdown",
   "metadata": {},
   "source": [
    "### From TL_metadata file"
   ]
  },
  {
   "cell_type": "code",
   "execution_count": 23,
   "metadata": {},
   "outputs": [],
   "source": [
    "### Load dataframe\n",
    "df_metadata = pd.read_csv(r'TL_metadata.csv')\n",
    "### Get list of FieldIDs\n",
    "fieldids = list(df_metadata[\"FieldID\"])\n",
    "fieldids = [x for x in fieldids if str(x) != 'nan'] # Remove NaN\n",
    "fieldids = [int(i) for i in fieldids] # Convert float to int"
   ]
  },
  {
   "cell_type": "code",
   "execution_count": 24,
   "metadata": {},
   "outputs": [
    {
     "name": "stderr",
     "output_type": "stream",
     "text": [
      "100%|██████████| 90/90 [03:13<00:00,  2.15s/it]\n"
     ]
    }
   ],
   "source": [
    "### Extract information\n",
    "df = UKBB_to_DF(fieldids)"
   ]
  },
  {
   "cell_type": "code",
   "execution_count": 25,
   "metadata": {},
   "outputs": [
    {
     "data": {
      "text/html": [
       "<div>\n",
       "<style scoped>\n",
       "    .dataframe tbody tr th:only-of-type {\n",
       "        vertical-align: middle;\n",
       "    }\n",
       "\n",
       "    .dataframe tbody tr th {\n",
       "        vertical-align: top;\n",
       "    }\n",
       "\n",
       "    .dataframe thead th {\n",
       "        text-align: right;\n",
       "    }\n",
       "</style>\n",
       "<table border=\"1\" class=\"dataframe\">\n",
       "  <thead>\n",
       "    <tr style=\"text-align: right;\">\n",
       "      <th></th>\n",
       "      <th>FieldID</th>\n",
       "      <th>Description</th>\n",
       "      <th>Category</th>\n",
       "      <th>Value_Type</th>\n",
       "      <th>Nb_Participants</th>\n",
       "      <th>Sex</th>\n",
       "      <th>Mean</th>\n",
       "      <th>Median</th>\n",
       "      <th>SD</th>\n",
       "    </tr>\n",
       "  </thead>\n",
       "  <tbody>\n",
       "    <tr>\n",
       "      <th>0</th>\n",
       "      <td>21003</td>\n",
       "      <td>Age when attended assessment centre</td>\n",
       "      <td>Reception</td>\n",
       "      <td>Integer, years</td>\n",
       "      <td>502411</td>\n",
       "      <td>Both sexes</td>\n",
       "      <td>57.5481</td>\n",
       "      <td>59</td>\n",
       "      <td>8.44123</td>\n",
       "    </tr>\n",
       "    <tr>\n",
       "      <th>1</th>\n",
       "      <td>40008</td>\n",
       "      <td>Age at cancer diagnosis</td>\n",
       "      <td>Cancer register</td>\n",
       "      <td>Continuous</td>\n",
       "      <td>118980</td>\n",
       "      <td>Both sexes</td>\n",
       "      <td>60.389</td>\n",
       "      <td>63</td>\n",
       "      <td>12.4027</td>\n",
       "    </tr>\n",
       "    <tr>\n",
       "      <th>2</th>\n",
       "      <td>40007</td>\n",
       "      <td>Age at death</td>\n",
       "      <td>Death register</td>\n",
       "      <td>Continuous, years</td>\n",
       "      <td>37897</td>\n",
       "      <td>Both sexes</td>\n",
       "      <td>70.1278</td>\n",
       "      <td>71.4</td>\n",
       "      <td>7.46689</td>\n",
       "    </tr>\n",
       "    <tr>\n",
       "      <th>3</th>\n",
       "      <td>845</td>\n",
       "      <td>Age completed full time education</td>\n",
       "      <td>Education</td>\n",
       "      <td>Integer, years</td>\n",
       "      <td>337352</td>\n",
       "      <td>Both sexes</td>\n",
       "      <td>16.7349</td>\n",
       "      <td>16</td>\n",
       "      <td>2.33829</td>\n",
       "    </tr>\n",
       "    <tr>\n",
       "      <th>4</th>\n",
       "      <td>2754</td>\n",
       "      <td>Age at first live birth</td>\n",
       "      <td>Female-specific factors</td>\n",
       "      <td>Integer, years</td>\n",
       "      <td>184998</td>\n",
       "      <td>Females only</td>\n",
       "      <td>25.4356</td>\n",
       "      <td>25</td>\n",
       "      <td>4.62531</td>\n",
       "    </tr>\n",
       "    <tr>\n",
       "      <th>...</th>\n",
       "      <td>...</td>\n",
       "      <td>...</td>\n",
       "      <td>...</td>\n",
       "      <td>...</td>\n",
       "      <td>...</td>\n",
       "      <td>...</td>\n",
       "      <td>...</td>\n",
       "      <td>...</td>\n",
       "      <td>...</td>\n",
       "    </tr>\n",
       "    <tr>\n",
       "      <th>85</th>\n",
       "      <td>48</td>\n",
       "      <td>Waist circumference</td>\n",
       "      <td>Body size measures</td>\n",
       "      <td>Continuous, cm</td>\n",
       "      <td>500318</td>\n",
       "      <td>Both sexes</td>\n",
       "      <td>90.1805</td>\n",
       "      <td>90</td>\n",
       "      <td>13.4194</td>\n",
       "    </tr>\n",
       "    <tr>\n",
       "      <th>86</th>\n",
       "      <td>1528</td>\n",
       "      <td>Water intake</td>\n",
       "      <td>Diet</td>\n",
       "      <td>Integer, glasses/day</td>\n",
       "      <td>501532</td>\n",
       "      <td>Both sexes</td>\n",
       "      <td>2.86044</td>\n",
       "      <td>2</td>\n",
       "      <td>2.2286</td>\n",
       "    </tr>\n",
       "    <tr>\n",
       "      <th>87</th>\n",
       "      <td>30000</td>\n",
       "      <td>White blood cell (leukocyte) count</td>\n",
       "      <td>Blood count</td>\n",
       "      <td>Continuous, 10^9 cells/Litre</td>\n",
       "      <td>479256</td>\n",
       "      <td>Both sexes</td>\n",
       "      <td>6.88107</td>\n",
       "      <td>6.65</td>\n",
       "      <td>2.13168</td>\n",
       "    </tr>\n",
       "    <tr>\n",
       "      <th>88</th>\n",
       "      <td>21002</td>\n",
       "      <td>Weight</td>\n",
       "      <td>Body size measures</td>\n",
       "      <td>Continuous, Kg</td>\n",
       "      <td>499731</td>\n",
       "      <td>Both sexes</td>\n",
       "      <td>77.8425</td>\n",
       "      <td>76.2</td>\n",
       "      <td>15.8785</td>\n",
       "    </tr>\n",
       "    <tr>\n",
       "      <th>89</th>\n",
       "      <td>22192</td>\n",
       "      <td>Z-adjusted T/S log</td>\n",
       "      <td>Telomeres</td>\n",
       "      <td>Continuous, ratio</td>\n",
       "      <td>473994</td>\n",
       "      <td>Both sexes</td>\n",
       "      <td>-1.2322e-05</td>\n",
       "      <td>-0.00221434</td>\n",
       "      <td>1.00002</td>\n",
       "    </tr>\n",
       "  </tbody>\n",
       "</table>\n",
       "<p>90 rows × 9 columns</p>\n",
       "</div>"
      ],
      "text/plain": [
       "    FieldID                          Description                 Category  \\\n",
       "0     21003  Age when attended assessment centre                Reception   \n",
       "1     40008              Age at cancer diagnosis          Cancer register   \n",
       "2     40007                         Age at death           Death register   \n",
       "3       845    Age completed full time education                Education   \n",
       "4      2754              Age at first live birth  Female-specific factors   \n",
       "..      ...                                  ...                      ...   \n",
       "85       48                  Waist circumference       Body size measures   \n",
       "86     1528                         Water intake                     Diet   \n",
       "87    30000   White blood cell (leukocyte) count              Blood count   \n",
       "88    21002                               Weight       Body size measures   \n",
       "89    22192                   Z-adjusted T/S log                Telomeres   \n",
       "\n",
       "                      Value_Type  Nb_Participants           Sex         Mean  \\\n",
       "0                 Integer, years           502411    Both sexes      57.5481   \n",
       "1                     Continuous           118980    Both sexes       60.389   \n",
       "2              Continuous, years            37897    Both sexes      70.1278   \n",
       "3                 Integer, years           337352    Both sexes      16.7349   \n",
       "4                 Integer, years           184998  Females only      25.4356   \n",
       "..                           ...              ...           ...          ...   \n",
       "85                Continuous, cm           500318    Both sexes      90.1805   \n",
       "86          Integer, glasses/day           501532    Both sexes      2.86044   \n",
       "87  Continuous, 10^9 cells/Litre           479256    Both sexes      6.88107   \n",
       "88                Continuous, Kg           499731    Both sexes      77.8425   \n",
       "89             Continuous, ratio           473994    Both sexes  -1.2322e-05   \n",
       "\n",
       "         Median       SD  \n",
       "0            59  8.44123  \n",
       "1            63  12.4027  \n",
       "2          71.4  7.46689  \n",
       "3            16  2.33829  \n",
       "4            25  4.62531  \n",
       "..          ...      ...  \n",
       "85           90  13.4194  \n",
       "86            2   2.2286  \n",
       "87         6.65  2.13168  \n",
       "88         76.2  15.8785  \n",
       "89  -0.00221434  1.00002  \n",
       "\n",
       "[90 rows x 9 columns]"
      ]
     },
     "execution_count": 25,
     "metadata": {},
     "output_type": "execute_result"
    }
   ],
   "source": [
    "df"
   ]
  },
  {
   "cell_type": "code",
   "execution_count": 29,
   "metadata": {},
   "outputs": [],
   "source": [
    "df.to_csv('pheno_list_f.csv', index=False, encoding='utf-8')\n",
    "df.to_excel('pheno_list_f.xlsx', index=False, encoding='utf-8')"
   ]
  }
 ],
 "metadata": {
  "kernelspec": {
   "display_name": "Python 3.9.5 64-bit",
   "language": "python",
   "name": "python3"
  },
  "language_info": {
   "codemirror_mode": {
    "name": "ipython",
    "version": 3
   },
   "file_extension": ".py",
   "mimetype": "text/x-python",
   "name": "python",
   "nbconvert_exporter": "python",
   "pygments_lexer": "ipython3",
   "version": "3.9.5"
  },
  "vscode": {
   "interpreter": {
    "hash": "8807d809ecb30b06ce31d476480b5670d7de5a054084e3328a6e4c7aeab9e5f0"
   }
  }
 },
 "nbformat": 4,
 "nbformat_minor": 4
}
